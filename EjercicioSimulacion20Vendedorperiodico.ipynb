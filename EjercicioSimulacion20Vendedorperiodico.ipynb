{
  "nbformat": 4,
  "nbformat_minor": 0,
  "metadata": {
    "colab": {
      "provenance": [],
      "authorship_tag": "ABX9TyOdgzxIbTRUFVP0EPDKz5jb",
      "include_colab_link": true
    },
    "kernelspec": {
      "name": "python3",
      "display_name": "Python 3"
    },
    "language_info": {
      "name": "python"
    }
  },
  "cells": [
    {
      "cell_type": "markdown",
      "metadata": {
        "id": "view-in-github",
        "colab_type": "text"
      },
      "source": [
        "<a href=\"https://colab.research.google.com/github/shunrei9841-sudo/Guadalupe/blob/main/EjercicioSimulacion20Vendedorperiodico.ipynb\" target=\"_parent\"><img src=\"https://colab.research.google.com/assets/colab-badge.svg\" alt=\"Open In Colab\"/></a>"
      ]
    },
    {
      "cell_type": "code",
      "execution_count": 24,
      "metadata": {
        "colab": {
          "base_uri": "https://localhost:8080/"
        },
        "id": "Ed-BdUSCslVf",
        "outputId": "d666adf2-202d-4210-f66a-8ed20cb89b8e"
      },
      "outputs": [
        {
          "output_type": "stream",
          "name": "stdout",
          "text": [
            "a) Ganancia esperada por cantidad:\n",
            "  - 50 periódicos: $149.93\n",
            "  - 60 periódicos: $177.82\n",
            "  - 70 periódicos: $193.32\n",
            "  - 80 periódicos: $187.40\n",
            "  - 90 periódicos: $169.74\n",
            "  - 100 periódicos: $149.82\n",
            "  - 110 periódicos: $129.97\n",
            "\n",
            "b) Mejor cantidad para abastecerse: 70 periódicos\n",
            "c) Ganancia esperada máxima: $193.32\n",
            "d) Probabilidad de ganancia < $116 con 70 periódicos: 0.0109\n"
          ]
        }
      ],
      "source": [
        "import numpy as np\n",
        "\n",
        "# Parámetros\n",
        "precios = {\n",
        "    \"venta\": 10,\n",
        "    \"costo\": 7,\n",
        "    \"reembolso\": 5\n",
        "}\n",
        "media_demanda = 70\n",
        "cantidades = [50, 60, 70, 80, 90, 100, 110]\n",
        "N = 100000  # Número de simulaciones\n",
        "\n",
        "# Función para calcular ganancia\n",
        "def ganancia(q, demanda):\n",
        "    vendidos = np.minimum(q, demanda)\n",
        "    no_vendidos = q - vendidos\n",
        "    return vendidos * precios[\"venta\"] - q * precios[\"costo\"] + no_vendidos * precios[\"reembolso\"]\n",
        "\n",
        "# Simulación\n",
        "np.random.seed(42)\n",
        "resultados = {}\n",
        "\n",
        "for q in cantidades:\n",
        "    demanda = np.random.poisson(media_demanda, size=N)\n",
        "    ganancias = ganancia(q, demanda)\n",
        "    resultados[q] = {\n",
        "        \"ganancia_esperada\": np.mean(ganancias),\n",
        "        \"prob_ganancia_menor_116\": np.mean(ganancias < 116) if q == 70 else None\n",
        "    }\n",
        "\n",
        "# Mostrar resultados\n",
        "print(\"a) Ganancia esperada por cantidad:\")\n",
        "for q in cantidades:\n",
        "    print(f\"  - {q} periódicos: ${resultados[q]['ganancia_esperada']:.2f}\")\n",
        "\n",
        "# b) Mejor cantidad\n",
        "mejor_q = max(resultados, key=lambda k: resultados[k][\"ganancia_esperada\"])\n",
        "print(f\"\\nb) Mejor cantidad para abastecerse: {mejor_q} periódicos\")\n",
        "\n",
        "# c) Ganancia esperada óptima\n",
        "print(f\"c) Ganancia esperada máxima: ${resultados[mejor_q]['ganancia_esperada']:.2f}\")\n",
        "\n",
        "# d) Probabilidad de ganancia < $116 si compra 70\n",
        "print(f\"d) Probabilidad de ganancia < $116 con 70 periódicos: {resultados[70]['prob_ganancia_menor_116']:.4f}\")"
      ]
    }
  ]
}