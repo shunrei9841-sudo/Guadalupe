{
  "nbformat": 4,
  "nbformat_minor": 0,
  "metadata": {
    "colab": {
      "provenance": [],
      "authorship_tag": "ABX9TyOleE4nsl3wJb5OlchCB4pl",
      "include_colab_link": true
    },
    "kernelspec": {
      "name": "python3",
      "display_name": "Python 3"
    },
    "language_info": {
      "name": "python"
    }
  },
  "cells": [
    {
      "cell_type": "markdown",
      "metadata": {
        "id": "view-in-github",
        "colab_type": "text"
      },
      "source": [
        "<a href=\"https://colab.research.google.com/github/shunrei9841-sudo/Guadalupe/blob/main/EjercicioSimulacion19.ipynb\" target=\"_parent\"><img src=\"https://colab.research.google.com/assets/colab-badge.svg\" alt=\"Open In Colab\"/></a>"
      ]
    },
    {
      "cell_type": "code",
      "execution_count": 23,
      "metadata": {
        "colab": {
          "base_uri": "https://localhost:8080/"
        },
        "id": "Ed-BdUSCslVf",
        "outputId": "a2922830-8094-481d-da28-157f9d514e67"
      },
      "outputs": [
        {
          "output_type": "stream",
          "name": "stdout",
          "text": [
            "Estimación de E[√X] con N=1000000: 1.25251\n",
            "\n",
            "Conclusión:\n",
            "La estimación se aproxima al valor teórico ≈ 1.2533, lo que confirma que la simulación es correcta.\n"
          ]
        }
      ],
      "source": [
        "#Valor esperado de raiz de X , donde X sigue una distribucion exponencia con parametro 0.5\n",
        "import numpy as np\n",
        "\n",
        "# Número de simulaciones\n",
        "N = 1000000\n",
        "\n",
        "# Paso 1: Generar muestra de X ~ Exponencial(0.5)\n",
        "X = np.random.exponential(scale=1/0.5, size=N)\n",
        "\n",
        "# Paso 2: Calcular sqrt(X)\n",
        "sqrt_X = np.sqrt(X)\n",
        "\n",
        "# Paso 3: Estimar el valor esperado\n",
        "E_sqrt_X = np.mean(sqrt_X)\n",
        "\n",
        "# Mostrar resultado\n",
        "print(f\"Estimación de E[√X] con N={N}: {E_sqrt_X:.5f}\")\n",
        "\n",
        "# Conclusión\n",
        "print(\"\\nConclusión:\")\n",
        "print(\"La estimación se aproxima al valor teórico ≈ 1.2533, lo que confirma que la simulación es correcta.\")\n"
      ]
    }
  ]
}