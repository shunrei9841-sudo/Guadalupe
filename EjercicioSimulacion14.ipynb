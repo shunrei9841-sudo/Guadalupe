{
  "nbformat": 4,
  "nbformat_minor": 0,
  "metadata": {
    "colab": {
      "provenance": [],
      "authorship_tag": "ABX9TyNdr7y7rucQ1SG+KqCnrGrf",
      "include_colab_link": true
    },
    "kernelspec": {
      "name": "python3",
      "display_name": "Python 3"
    },
    "language_info": {
      "name": "python"
    }
  },
  "cells": [
    {
      "cell_type": "markdown",
      "metadata": {
        "id": "view-in-github",
        "colab_type": "text"
      },
      "source": [
        "<a href=\"https://colab.research.google.com/github/shunrei9841-sudo/Guadalupe/blob/main/EjercicioSimulacion14.ipynb\" target=\"_parent\"><img src=\"https://colab.research.google.com/assets/colab-badge.svg\" alt=\"Open In Colab\"/></a>"
      ]
    },
    {
      "cell_type": "code",
      "execution_count": 37,
      "metadata": {
        "colab": {
          "base_uri": "https://localhost:8080/"
        },
        "id": "o-xQ0ACXMUf1",
        "outputId": "050b2e13-bf4a-4e32-f6a4-bdb646f947c0"
      },
      "outputs": [
        {
          "output_type": "stream",
          "name": "stdout",
          "text": [
            "Media muestral:    4.9948\n",
            "Media teórica:     5.0000\n",
            "Varianza muestral: 4.9973\n",
            "Varianza teórica:  5.0000\n"
          ]
        }
      ],
      "source": [
        "#La distribucion de Poisson tiene la siguiente caracteristica:\n",
        "#E[x]=lamda y var(x)=lamda\n",
        "import numpy as np\n",
        "\n",
        "# Parámetro de la distribución\n",
        "lam = 5\n",
        "N = 1000000  # Tamaño de la muestra\n",
        "\n",
        "# Generar muestra\n",
        "muestra = np.random.poisson(lam=lam, size=N)\n",
        "\n",
        "# Estadísticos muestrales\n",
        "media_muestral = np.mean(muestra)\n",
        "varianza_muestral = np.var(muestra, ddof=1)  # ddof=1 para varianza muestral\n",
        "\n",
        "# Resultados\n",
        "print(f\"Media muestral:    {media_muestral:.4f}\")\n",
        "print(f\"Media teórica:     {lam:.4f}\")\n",
        "print(f\"Varianza muestral: {varianza_muestral:.4f}\")\n",
        "print(f\"Varianza teórica:  {lam:.4f}\")\n"
      ]
    }
  ]
}