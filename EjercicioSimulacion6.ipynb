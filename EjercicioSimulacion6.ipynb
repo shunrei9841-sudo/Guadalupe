{
  "nbformat": 4,
  "nbformat_minor": 0,
  "metadata": {
    "colab": {
      "provenance": [],
      "authorship_tag": "ABX9TyP9ow6pUI/4g78XLXsD+GBD",
      "include_colab_link": true
    },
    "kernelspec": {
      "name": "python3",
      "display_name": "Python 3"
    },
    "language_info": {
      "name": "python"
    }
  },
  "cells": [
    {
      "cell_type": "markdown",
      "metadata": {
        "id": "view-in-github",
        "colab_type": "text"
      },
      "source": [
        "<a href=\"https://colab.research.google.com/github/shunrei9841-sudo/Guadalupe/blob/main/EjercicioSimulacion6.ipynb\" target=\"_parent\"><img src=\"https://colab.research.google.com/assets/colab-badge.svg\" alt=\"Open In Colab\"/></a>"
      ]
    },
    {
      "cell_type": "code",
      "execution_count": 1,
      "metadata": {
        "colab": {
          "base_uri": "https://localhost:8080/"
        },
        "id": "39KOO7-h7jsk",
        "outputId": "a19bdc1b-7e5b-4b33-f7f5-fbfa3b890c5d"
      },
      "outputs": [
        {
          "output_type": "stream",
          "name": "stdout",
          "text": [
            "Ciclo generado: [32, 2, 11, 14, 53, 47, 26, 38, 23, 56, 29, 20, 17, 35, 41, 5, 50, 8]\n",
            "Longitud del ciclo: 18\n",
            "¿Es ciclo completo?: No\n",
            "Números aleatorios en [0,1]: [0.5614035087719298, 0.03508771929824561, 0.19298245614035087, 0.24561403508771928, 0.9298245614035088, 0.8245614035087719, 0.45614035087719296, 0.6666666666666666, 0.40350877192982454, 0.9824561403508771, 0.5087719298245614, 0.3508771929824561, 0.2982456140350877, 0.6140350877192983, 0.7192982456140351, 0.08771929824561403, 0.8771929824561403, 0.14035087719298245]\n"
          ]
        }
      ],
      "source": [
        "a = 51\n",
        "c = 23\n",
        "m = 57\n",
        "x0 = 32\n",
        "\n",
        "# Generar ciclo\n",
        "valores = []\n",
        "x = x0\n",
        "\n",
        "while x not in valores:\n",
        "    valores.append(x)\n",
        "    x = (a * x + c) % m\n",
        "\n",
        "# Longitud del ciclo\n",
        "longitud = len(valores)\n",
        "es_completo = longitud == m\n",
        "\n",
        "# Lista de números aleatorios en [0,1]\n",
        "aleatorios = [v / m for v in valores]\n",
        "\n",
        "# Resultados\n",
        "print(\"Ciclo generado:\", valores)\n",
        "print(f\"Longitud del ciclo: {longitud}\")\n",
        "print(f\"¿Es ciclo completo?: {'Sí' if es_completo else 'No'}\")\n",
        "print(\"Números aleatorios en [0,1]:\", aleatorios)"
      ]
    }
  ]
}