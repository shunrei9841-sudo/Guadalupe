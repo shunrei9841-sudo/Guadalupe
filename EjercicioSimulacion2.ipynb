{
  "nbformat": 4,
  "nbformat_minor": 0,
  "metadata": {
    "colab": {
      "provenance": [],
      "authorship_tag": "ABX9TyM/Ugi1kmRlD6ne2s4aNvgu",
      "include_colab_link": true
    },
    "kernelspec": {
      "name": "python3",
      "display_name": "Python 3"
    },
    "language_info": {
      "name": "python"
    }
  },
  "cells": [
    {
      "cell_type": "markdown",
      "metadata": {
        "id": "view-in-github",
        "colab_type": "text"
      },
      "source": [
        "<a href=\"https://colab.research.google.com/github/shunrei9841-sudo/Guadalupe/blob/main/EjercicioSimulacion2.ipynb\" target=\"_parent\"><img src=\"https://colab.research.google.com/assets/colab-badge.svg\" alt=\"Open In Colab\"/></a>"
      ]
    },
    {
      "cell_type": "code",
      "execution_count": 1,
      "metadata": {
        "colab": {
          "base_uri": "https://localhost:8080/"
        },
        "id": "0cscuwp3i5VZ",
        "outputId": "793e79bd-3386-4137-f1bd-88d065cd6dd6"
      },
      "outputs": [
        {
          "output_type": "stream",
          "name": "stdout",
          "text": [
            "Estimación de √2: 1.414779\n"
          ]
        }
      ],
      "source": [
        "from random import random\n",
        "\n",
        "# Número de simulaciones\n",
        "N = 1000000\n",
        "cuenta = 0\n",
        "\n",
        "# Simulación: puntos en el cuadrado [0,2]×[0,2]\n",
        "for _ in range(N):\n",
        "    x = 2 * random()  # x ∈ [0, 2]\n",
        "    y = 2 * random()  # y ∈ [0, 2]\n",
        "    if y < x**0.5:    # punto cae debajo de la curva y = √x\n",
        "        cuenta += 1\n",
        "\n",
        "# Área estimada bajo la curva y = √x en [0,2]\n",
        "area_estimada = (cuenta / N) * 4  # área total del cuadrado es 2×2 = 4\n",
        "\n",
        "# Relación: ∫₀² √x dx = (4√2)/3 → despejamos √2\n",
        "raiz2_estimada = (3 / 4) * area_estimada\n",
        "\n",
        "# Resultado\n",
        "print(f\"Estimación de √2: {raiz2_estimada:.6f}\")"
      ]
    }
  ]
}