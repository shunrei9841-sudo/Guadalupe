{
  "nbformat": 4,
  "nbformat_minor": 0,
  "metadata": {
    "colab": {
      "provenance": [],
      "authorship_tag": "ABX9TyMhXIpXo57GMhiBDDm3H/d7",
      "include_colab_link": true
    },
    "kernelspec": {
      "name": "python3",
      "display_name": "Python 3"
    },
    "language_info": {
      "name": "python"
    }
  },
  "cells": [
    {
      "cell_type": "markdown",
      "metadata": {
        "id": "view-in-github",
        "colab_type": "text"
      },
      "source": [
        "<a href=\"https://colab.research.google.com/github/shunrei9841-sudo/Guadalupe/blob/main/EjercicioSimulacion12.ipynb\" target=\"_parent\"><img src=\"https://colab.research.google.com/assets/colab-badge.svg\" alt=\"Open In Colab\"/></a>"
      ]
    },
    {
      "cell_type": "code",
      "execution_count": 28,
      "metadata": {
        "colab": {
          "base_uri": "https://localhost:8080/"
        },
        "id": "o-xQ0ACXMUf1",
        "outputId": "a351e32a-0092-4915-dd0f-1c5f844ee60c"
      },
      "outputs": [
        {
          "output_type": "stream",
          "name": "stdout",
          "text": [
            "Muestra generada (primeros 100): [5, 3, 1, 1, 3, 1, 3, 3, 5, 5, 5, 3, 3, 3, 1, 1, 5, 3, 3, 5, 1, 1, 3, 5, 3, 3, 5, 1, 1, 5, 5, 5, 3, 5, 3, 1, 1, 3, 5, 3, 1, 5, 5, 3, 1, 3, 1, 3, 3, 3, 5, 3, 5, 5, 5, 5, 5, 5, 5, 3, 3, 3, 1, 1, 3, 5, 5, 1, 5, 1, 1, 1, 3, 5, 3, 5, 5, 3, 5, 5, 3, 1, 5, 1, 3, 1, 3, 1, 5, 5, 5, 1, 3, 1, 5, 1, 5, 5, 5, 5]\n"
          ]
        }
      ],
      "source": [
        "#Variable aleatoria X con funcion de densidad, dar 100 numeros aleatorios\n",
        "# Valores posibles y sus probabilidades\n",
        "valores = [1, 3, 5]\n",
        "probabilidades = [0.2, 0.3, 0.5]\n",
        "\n",
        "# Generar muestra de 100 valores\n",
        "muestra = random.choices(valores, weights=probabilidades, k=100)\n",
        "\n",
        "# Mostrar los primeros 100 valores como ejemplo\n",
        "print(\"Muestra generada (primeros 100):\", muestra[:100])\n"
      ]
    }
  ]
}