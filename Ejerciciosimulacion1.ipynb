{
  "nbformat": 4,
  "nbformat_minor": 0,
  "metadata": {
    "colab": {
      "provenance": [],
      "authorship_tag": "ABX9TyOggXLTDymYXNwo466vP/Bd",
      "include_colab_link": true
    },
    "kernelspec": {
      "name": "python3",
      "display_name": "Python 3"
    },
    "language_info": {
      "name": "python"
    }
  },
  "cells": [
    {
      "cell_type": "markdown",
      "metadata": {
        "id": "view-in-github",
        "colab_type": "text"
      },
      "source": [
        "<a href=\"https://colab.research.google.com/github/shunrei9841-sudo/Guadalupe/blob/main/Ejerciciosimulacion1.ipynb\" target=\"_parent\"><img src=\"https://colab.research.google.com/assets/colab-badge.svg\" alt=\"Open In Colab\"/></a>"
      ]
    },
    {
      "cell_type": "code",
      "execution_count": 2,
      "metadata": {
        "colab": {
          "base_uri": "https://localhost:8080/"
        },
        "id": "BHA2uQYCYrRR",
        "outputId": "c978137c-28d7-4d6b-eb43-a40852209fca"
      },
      "outputs": [
        {
          "output_type": "stream",
          "name": "stdout",
          "text": [
            "Para que P(|X_n - π/4| > 0.01) < 0.1, necesitas al menos:\n",
            "16855 simulaciones (dardos)\n"
          ]
        }
      ],
      "source": [
        "import math\n",
        "\n",
        "# Parámetros del problema\n",
        "delta = 0.01       # Margen de error permitido\n",
        "epsilon = 0.1      # Probabilidad máxima aceptable\n",
        "p = math.pi / 4    # Valor esperado (π/4)\n",
        "varianza = p * (1 - p)  # Varianza de Bernoulli\n",
        "\n",
        "# Desigualdad de Chebyshev: P(|X_n - p| > delta) ≤ varianza / (n * delta^2)\n",
        "# Despejamos n:\n",
        "n_min = varianza / (epsilon * delta**2)\n",
        "\n",
        "# Resultado\n",
        "print(f\"Para que P(|X_n - π/4| > {delta}) < {epsilon}, necesitas al menos:\")\n",
        "print(f\"{math.ceil(n_min)} simulaciones (dardos)\")"
      ]
    }
  ]
}