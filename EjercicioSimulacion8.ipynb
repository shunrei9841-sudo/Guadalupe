{
  "nbformat": 4,
  "nbformat_minor": 0,
  "metadata": {
    "colab": {
      "provenance": [],
      "authorship_tag": "ABX9TyNsVIOd94NPxipa2wuI7Y4h",
      "include_colab_link": true
    },
    "kernelspec": {
      "name": "python3",
      "display_name": "Python 3"
    },
    "language_info": {
      "name": "python"
    }
  },
  "cells": [
    {
      "cell_type": "markdown",
      "metadata": {
        "id": "view-in-github",
        "colab_type": "text"
      },
      "source": [
        "<a href=\"https://colab.research.google.com/github/shunrei9841-sudo/Guadalupe/blob/main/EjercicioSimulacion8.ipynb\" target=\"_parent\"><img src=\"https://colab.research.google.com/assets/colab-badge.svg\" alt=\"Open In Colab\"/></a>"
      ]
    },
    {
      "cell_type": "code",
      "execution_count": 4,
      "metadata": {
        "colab": {
          "base_uri": "https://localhost:8080/"
        },
        "id": "gh7SQhgL9Cp0",
        "outputId": "bfc863d4-1c6e-4aa3-a629-b352cabcdc7d"
      },
      "outputs": [
        {
          "output_type": "stream",
          "name": "stdout",
          "text": [
            "Estimación de ∫₂³ 1/(1 + x) dx ≈ 0.287712\n"
          ]
        }
      ],
      "source": [
        "#Resolver una integral de 2 a 3\n",
        "from random import uniform\n",
        "\n",
        "# Número de simulaciones\n",
        "N = 1000000\n",
        "suma = 0\n",
        "\n",
        "# Simulación Monte Carlo\n",
        "for _ in range(N):\n",
        "    x = uniform(2, 3)  # x ∈ [2, 3]\n",
        "    suma += 1 / (1 + x)\n",
        "\n",
        "# Estimación de la integral\n",
        "integral_estimada = suma / N * (3 - 2)\n",
        "\n",
        "# Resultado\n",
        "print(f\"Estimación de ∫₂³ 1/(1 + x) dx ≈ {integral_estimada:.6f}\")"
      ]
    }
  ]
}