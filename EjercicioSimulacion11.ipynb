{
  "nbformat": 4,
  "nbformat_minor": 0,
  "metadata": {
    "colab": {
      "provenance": [],
      "authorship_tag": "ABX9TyNsGPKMzNicG/ch0WX1yPvq",
      "include_colab_link": true
    },
    "kernelspec": {
      "name": "python3",
      "display_name": "Python 3"
    },
    "language_info": {
      "name": "python"
    }
  },
  "cells": [
    {
      "cell_type": "markdown",
      "metadata": {
        "id": "view-in-github",
        "colab_type": "text"
      },
      "source": [
        "<a href=\"https://colab.research.google.com/github/shunrei9841-sudo/Guadalupe/blob/main/EjercicioSimulacion11.ipynb\" target=\"_parent\"><img src=\"https://colab.research.google.com/assets/colab-badge.svg\" alt=\"Open In Colab\"/></a>"
      ]
    },
    {
      "cell_type": "code",
      "execution_count": 16,
      "metadata": {
        "colab": {
          "base_uri": "https://localhost:8080/"
        },
        "id": "o-xQ0ACXMUf1",
        "outputId": "e20a1030-9f39-4675-b8da-806404fd7bb4"
      },
      "outputs": [
        {
          "output_type": "stream",
          "name": "stdout",
          "text": [
            "Estimación de la integral ≈ 0.784683\n",
            "Intervalo de confianza del 90%: (0.783013, 0.786353)\n"
          ]
        }
      ],
      "source": [
        "#Integral doble de e^-(x^2 + y^2)\n",
        "import random\n",
        "import math\n",
        "\n",
        "# Número de simulaciones\n",
        "N = 1000000\n",
        "valores = []\n",
        "\n",
        "for _ in range(N):\n",
        "    u = random.random()\n",
        "    v = random.random()\n",
        "    x = u / (1 - u)\n",
        "    y = v / (1 - v)\n",
        "    fx = math.exp(-(x**2 + y**2)) / ((1 - u)**2 * (1 - v)**2)\n",
        "    valores.append(fx)\n",
        "\n",
        "# Estimación de la integral\n",
        "media = sum(valores) / N\n",
        "\n",
        "# Varianza muestral\n",
        "varianza = sum((v - media)**2 for v in valores) / (N - 1)\n",
        "\n",
        "# Intervalo de confianza del 90%\n",
        "z = 1.645  # para 90%\n",
        "error = z * math.sqrt(varianza / N)\n",
        "IC_inf = media - error\n",
        "IC_sup = media + error\n",
        "\n",
        "# Resultados\n",
        "print(f\"Estimación de la integral ≈ {media:.6f}\")\n",
        "print(f\"Intervalo de confianza del 90%: ({IC_inf:.6f}, {IC_sup:.6f})\")"
      ]
    }
  ]
}