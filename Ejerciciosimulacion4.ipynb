{
  "nbformat": 4,
  "nbformat_minor": 0,
  "metadata": {
    "colab": {
      "provenance": [],
      "authorship_tag": "ABX9TyPk2q68rHtruRKHHt8KU24o",
      "include_colab_link": true
    },
    "kernelspec": {
      "name": "python3",
      "display_name": "Python 3"
    },
    "language_info": {
      "name": "python"
    }
  },
  "cells": [
    {
      "cell_type": "markdown",
      "metadata": {
        "id": "view-in-github",
        "colab_type": "text"
      },
      "source": [
        "<a href=\"https://colab.research.google.com/github/shunrei9841-sudo/Guadalupe/blob/main/Ejerciciosimulacion4.ipynb\" target=\"_parent\"><img src=\"https://colab.research.google.com/assets/colab-badge.svg\" alt=\"Open In Colab\"/></a>"
      ]
    },
    {
      "cell_type": "code",
      "execution_count": 20,
      "metadata": {
        "colab": {
          "base_uri": "https://localhost:8080/"
        },
        "id": "c8znKopP0QzW",
        "outputId": "22e6243c-3ec0-4e22-af0c-ea6075497e07"
      },
      "outputs": [
        {
          "output_type": "stream",
          "name": "stdout",
          "text": [
            "Probabilidad estimada de que A gane: 0.2093\n",
            "Valor esperado del número de volados: 36.18\n"
          ]
        }
      ],
      "source": [
        "from random import choice\n",
        "#Dos jugadores A y B lanzan volados\n",
        "# Parámetros iniciales\n",
        "dinero_A_inicial = 3\n",
        "dinero_B_inicial = 12\n",
        "simulaciones = 10000\n",
        "\n",
        "# Contadores\n",
        "victorias_A = 0\n",
        "total_volados = 0\n",
        "\n",
        "for _ in range(simulaciones):\n",
        "    dinero_A = dinero_A_inicial\n",
        "    dinero_B = dinero_B_inicial\n",
        "    volados = 0\n",
        "\n",
        "    # Simulación de un juego completo\n",
        "    while dinero_A > 0 and dinero_B > 0:\n",
        "        ganador = choice(['A', 'B'])\n",
        "        if ganador == 'A':\n",
        "            dinero_A += 1\n",
        "            dinero_B -= 1\n",
        "        else:\n",
        "            dinero_A -= 1\n",
        "            dinero_B += 1\n",
        "        volados += 1\n",
        "\n",
        "    if dinero_A > 0:\n",
        "        victorias_A += 1\n",
        "    total_volados += volados\n",
        "\n",
        "# Resultados\n",
        "probabilidad_A_gana = victorias_A / simulaciones\n",
        "esperanza_volados = total_volados / simulaciones\n",
        "\n",
        "print(f\"Probabilidad estimada de que A gane: {probabilidad_A_gana:.4f}\")\n",
        "print(f\"Valor esperado del número de volados: {esperanza_volados:.2f}\")\n"
      ]
    }
  ]
}