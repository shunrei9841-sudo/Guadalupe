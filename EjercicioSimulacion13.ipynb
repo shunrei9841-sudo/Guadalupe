{
  "nbformat": 4,
  "nbformat_minor": 0,
  "metadata": {
    "colab": {
      "provenance": [],
      "authorship_tag": "ABX9TyM3kGVcSDABrBss9avOuGJn",
      "include_colab_link": true
    },
    "kernelspec": {
      "name": "python3",
      "display_name": "Python 3"
    },
    "language_info": {
      "name": "python"
    }
  },
  "cells": [
    {
      "cell_type": "markdown",
      "metadata": {
        "id": "view-in-github",
        "colab_type": "text"
      },
      "source": [
        "<a href=\"https://colab.research.google.com/github/shunrei9841-sudo/Guadalupe/blob/main/EjercicioSimulacion13.ipynb\" target=\"_parent\"><img src=\"https://colab.research.google.com/assets/colab-badge.svg\" alt=\"Open In Colab\"/></a>"
      ]
    },
    {
      "cell_type": "code",
      "execution_count": 35,
      "metadata": {
        "colab": {
          "base_uri": "https://localhost:8080/"
        },
        "id": "o-xQ0ACXMUf1",
        "outputId": "5ae1456d-db70-4525-83ce-e32be5dc8ce0"
      },
      "outputs": [
        {
          "output_type": "stream",
          "name": "stdout",
          "text": [
            "Media muestral: 5.2469\n",
            "Media teórica:  5.2500\n",
            "Varianza muestral: 1.3151\n",
            "Varianza teórica:  1.3125\n"
          ]
        }
      ],
      "source": [
        "#Generar una muestra de 1000000 numeros para una variable con distribucion binomial\n",
        "import numpy as np\n",
        "\n",
        "# Parámetros de la distribución binomial\n",
        "n = 7\n",
        "p = 0.75\n",
        "N = 1000000  # tamaño de la muestra\n",
        "\n",
        "# Generar muestra\n",
        "muestra = np.random.binomial(n=n, p=p, size=N)\n",
        "\n",
        "# Estadísticos muestrales\n",
        "media_muestral = np.mean(muestra)\n",
        "varianza_muestral = np.var(muestra, ddof=1)  # ddof=1 para varianza muestral\n",
        "\n",
        "# Valores teóricos\n",
        "media_teorica = n * p\n",
        "varianza_teorica = n * p * (1 - p)\n",
        "\n",
        "# Resultados\n",
        "print(f\"Media muestral: {media_muestral:.4f}\")\n",
        "print(f\"Media teórica:  {media_teorica:.4f}\")\n",
        "print(f\"Varianza muestral: {varianza_muestral:.4f}\")\n",
        "print(f\"Varianza teórica:  {varianza_teorica:.4f}\")\n"
      ]
    }
  ]
}