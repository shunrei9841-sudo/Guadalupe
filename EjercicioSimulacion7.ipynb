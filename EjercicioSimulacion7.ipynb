{
  "nbformat": 4,
  "nbformat_minor": 0,
  "metadata": {
    "colab": {
      "provenance": [],
      "authorship_tag": "ABX9TyMaXgIEuJmoa1xFn9SfDNw5",
      "include_colab_link": true
    },
    "kernelspec": {
      "name": "python3",
      "display_name": "Python 3"
    },
    "language_info": {
      "name": "python"
    }
  },
  "cells": [
    {
      "cell_type": "markdown",
      "metadata": {
        "id": "view-in-github",
        "colab_type": "text"
      },
      "source": [
        "<a href=\"https://colab.research.google.com/github/shunrei9841-sudo/Guadalupe/blob/main/EjercicioSimulacion7.ipynb\" target=\"_parent\"><img src=\"https://colab.research.google.com/assets/colab-badge.svg\" alt=\"Open In Colab\"/></a>"
      ]
    },
    {
      "cell_type": "code",
      "execution_count": 2,
      "metadata": {
        "colab": {
          "base_uri": "https://localhost:8080/"
        },
        "id": "gh7SQhgL9Cp0",
        "outputId": "01e8af99-42d2-4270-e4da-eb0a827fdc42"
      },
      "outputs": [
        {
          "output_type": "stream",
          "name": "stdout",
          "text": [
            "Estimación de ∫₀¹ 1/(1 + x²) dx ≈ 0.785202\n",
            "Estimación de ∫₀¹ √(1 - x²) dx ≈ 0.785400\n"
          ]
        }
      ],
      "source": [
        "#Resolucion de integrales\n",
        "from random import random\n",
        "import math\n",
        "\n",
        "# Número de simulaciones\n",
        "N = 1000000\n",
        "\n",
        "# Estimación de la primera integral: ∫₀¹ 1/(1 + x²) dx\n",
        "suma1 = 0\n",
        "for _ in range(N):\n",
        "    x = random()\n",
        "    suma1 += 1 / (1 + x**2)\n",
        "integral1 = suma1 / N\n",
        "\n",
        "# Estimación de la segunda integral: ∫₀¹ √(1 - x²) dx\n",
        "suma2 = 0\n",
        "for _ in range(N):\n",
        "    x = random()\n",
        "    suma2 += math.sqrt(1 - x**2)\n",
        "integral2 = suma2 / N\n",
        "\n",
        "# Resultados\n",
        "print(f\"Estimación de ∫₀¹ 1/(1 + x²) dx ≈ {integral1:.6f}\")\n",
        "print(f\"Estimación de ∫₀¹ √(1 - x²) dx ≈ {integral2:.6f}\")"
      ]
    }
  ]
}