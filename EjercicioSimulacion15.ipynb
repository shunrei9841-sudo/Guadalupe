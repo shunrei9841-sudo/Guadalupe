{
  "nbformat": 4,
  "nbformat_minor": 0,
  "metadata": {
    "colab": {
      "provenance": [],
      "authorship_tag": "ABX9TyM+BSr9+dvk68+sVX9jQA6u",
      "include_colab_link": true
    },
    "kernelspec": {
      "name": "python3",
      "display_name": "Python 3"
    },
    "language_info": {
      "name": "python"
    }
  },
  "cells": [
    {
      "cell_type": "markdown",
      "metadata": {
        "id": "view-in-github",
        "colab_type": "text"
      },
      "source": [
        "<a href=\"https://colab.research.google.com/github/shunrei9841-sudo/Guadalupe/blob/main/EjercicioSimulacion15.ipynb\" target=\"_parent\"><img src=\"https://colab.research.google.com/assets/colab-badge.svg\" alt=\"Open In Colab\"/></a>"
      ]
    },
    {
      "cell_type": "code",
      "execution_count": 38,
      "metadata": {
        "colab": {
          "base_uri": "https://localhost:8080/"
        },
        "id": "o-xQ0ACXMUf1",
        "outputId": "0e0c9f29-796a-4709-b7b2-110592f9a1dc"
      },
      "outputs": [
        {
          "output_type": "stream",
          "name": "stdout",
          "text": [
            "Media muestral:    4.0051\n",
            "Media teórica:     4.0000\n",
            "Varianza muestral: 12.0372\n",
            "Varianza teórica:  12.0000\n",
            "\n",
            "Conclusión:\n",
            "La media y la varianza muestral se aproximan muy bien a los valores teóricos esperados.\n",
            "Esto confirma que la simulación refleja correctamente el comportamiento de la distribución geométrica con p = 0.25.\n"
          ]
        }
      ],
      "source": [
        "import numpy as np\n",
        "\n",
        "# Parámetro y tamaño de muestra\n",
        "p = 0.25\n",
        "N = 1000000\n",
        "\n",
        "# Generar muestra (ensayos hasta el primer éxito)\n",
        "muestra = np.random.geometric(p, size=N)\n",
        "\n",
        "# Estadísticos muestrales\n",
        "media_muestral = np.mean(muestra)\n",
        "varianza_muestral = np.var(muestra, ddof=1)\n",
        "\n",
        "# Valores teóricos\n",
        "media_teorica = 1 / p\n",
        "varianza_teorica = (1 - p) / p**2\n",
        "\n",
        "# Resultados\n",
        "print(f\"Media muestral:    {media_muestral:.4f}\")\n",
        "print(f\"Media teórica:     {media_teorica:.4f}\")\n",
        "print(f\"Varianza muestral: {varianza_muestral:.4f}\")\n",
        "print(f\"Varianza teórica:  {varianza_teorica:.4f}\")\n",
        "\n",
        "# Conclusión\n",
        "print(\"\\nConclusión:\")\n",
        "print(\"La media y la varianza muestral se aproximan muy bien a los valores teóricos esperados.\")\n",
        "print(\"Esto confirma que la simulación refleja correctamente el comportamiento de la distribución geométrica con p = 0.25.\")\n"
      ]
    }
  ]
}