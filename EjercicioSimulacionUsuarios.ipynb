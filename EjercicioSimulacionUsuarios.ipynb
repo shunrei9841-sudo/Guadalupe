{
  "nbformat": 4,
  "nbformat_minor": 0,
  "metadata": {
    "colab": {
      "provenance": [],
      "authorship_tag": "ABX9TyNHHdJsY4q+EGxfS61wfbCK",
      "include_colab_link": true
    },
    "kernelspec": {
      "name": "python3",
      "display_name": "Python 3"
    },
    "language_info": {
      "name": "python"
    }
  },
  "cells": [
    {
      "cell_type": "markdown",
      "metadata": {
        "id": "view-in-github",
        "colab_type": "text"
      },
      "source": [
        "<a href=\"https://colab.research.google.com/github/shunrei9841-sudo/Guadalupe/blob/main/EjercicioSimulacionUsuarios.ipynb\" target=\"_parent\"><img src=\"https://colab.research.google.com/assets/colab-badge.svg\" alt=\"Open In Colab\"/></a>"
      ]
    },
    {
      "cell_type": "code",
      "execution_count": 10,
      "metadata": {
        "colab": {
          "base_uri": "https://localhost:8080/"
        },
        "id": "Ed-BdUSCslVf",
        "outputId": "d06add51-a3c8-4cd9-c81d-1a2441a014fa"
      },
      "outputs": [
        {
          "output_type": "stream",
          "name": "stdout",
          "text": [
            "(a) Valor esperado del número promedio de usuarios en [0,60]: 5.3592\n",
            "(b) Valor esperado del máximo número de usuarios en [0,60]: 13.9240\n",
            "(c) Valor esperado del número de usuarios en t = 60: 7.3730\n"
          ]
        }
      ],
      "source": [
        "#Linea de espera 2 usuarios /min distribucion exponencial con parametros de 2.2usuarios/min\n",
        "import numpy as np\n",
        "\n",
        "# Parámetros\n",
        "lambda_llegadas = 2     # tasa de llegada (usuarios/minuto)\n",
        "mu_servicio = 2.2       # tasa de servicio (usuarios/minuto)\n",
        "T = 60                  # tiempo total de simulación (minutos)\n",
        "N_simulaciones = 1000   # número de simulaciones\n",
        "\n",
        "# Resultados acumulados\n",
        "promedios = []\n",
        "maximos = []\n",
        "finales = []\n",
        "\n",
        "for _ in range(N_simulaciones):\n",
        "    # Generar tiempos de llegada\n",
        "    tiempos_llegada = np.cumsum(np.random.exponential(1 / lambda_llegadas, size=1000))\n",
        "    tiempos_llegada = tiempos_llegada[tiempos_llegada <= T]\n",
        "    n_llegadas = len(tiempos_llegada)\n",
        "\n",
        "    # Generar tiempos de servicio\n",
        "    tiempos_servicio = np.random.exponential(1 / mu_servicio, size=n_llegadas)\n",
        "\n",
        "    # Inicializar eventos\n",
        "    tiempos_salida = np.zeros(n_llegadas)\n",
        "    tiempo_actual = 0\n",
        "\n",
        "    for i in range(n_llegadas):\n",
        "        if i == 0:\n",
        "            inicio = tiempos_llegada[i]\n",
        "        else:\n",
        "            inicio = max(tiempos_llegada[i], tiempos_salida[i - 1])\n",
        "        tiempos_salida[i] = inicio + tiempos_servicio[i]\n",
        "\n",
        "    # Simular número de usuarios en el sistema en cada minuto\n",
        "    usuarios_por_minuto = []\n",
        "    for t in range(T + 1):\n",
        "        en_sistema = np.sum((tiempos_llegada <= t) & (tiempos_salida > t))\n",
        "        usuarios_por_minuto.append(en_sistema)\n",
        "\n",
        "    # Guardar métricas\n",
        "    promedios.append(np.mean(usuarios_por_minuto))\n",
        "    maximos.append(np.max(usuarios_por_minuto))\n",
        "    finales.append(usuarios_por_minuto[-1])\n",
        "\n",
        "# Mostrar resultados\n",
        "print(f\"(a) Valor esperado del número promedio de usuarios en [0,60]: {np.mean(promedios):.4f}\")\n",
        "print(f\"(b) Valor esperado del máximo número de usuarios en [0,60]: {np.mean(maximos):.4f}\")\n",
        "print(f\"(c) Valor esperado del número de usuarios en t = 60: {np.mean(finales):.4f}\")"
      ]
    }
  ]
}