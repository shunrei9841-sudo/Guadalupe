{
  "nbformat": 4,
  "nbformat_minor": 0,
  "metadata": {
    "colab": {
      "provenance": [],
      "authorship_tag": "ABX9TyOCfZ5j8hkBl/ElXItHPvH7",
      "include_colab_link": true
    },
    "kernelspec": {
      "name": "python3",
      "display_name": "Python 3"
    },
    "language_info": {
      "name": "python"
    }
  },
  "cells": [
    {
      "cell_type": "markdown",
      "metadata": {
        "id": "view-in-github",
        "colab_type": "text"
      },
      "source": [
        "<a href=\"https://colab.research.google.com/github/shunrei9841-sudo/Guadalupe/blob/main/EjercicioSimulacion10.ipynb\" target=\"_parent\"><img src=\"https://colab.research.google.com/assets/colab-badge.svg\" alt=\"Open In Colab\"/></a>"
      ]
    },
    {
      "cell_type": "code",
      "execution_count": 14,
      "metadata": {
        "colab": {
          "base_uri": "https://localhost:8080/"
        },
        "id": "o-xQ0ACXMUf1",
        "outputId": "5c196a91-1680-4741-898d-7abf369a4dc1"
      },
      "outputs": [
        {
          "output_type": "stream",
          "name": "stdout",
          "text": [
            "Estimación de la integral ≈ 0.887369\n",
            "Intervalo de confianza del 90%: (0.886208, 0.888530)\n"
          ]
        }
      ],
      "source": [
        "#Estimar el valor de la integral e^(-x^2)\n",
        "import random\n",
        "import math\n",
        "\n",
        "# Número de simulaciones\n",
        "N = 1000000\n",
        "valores = []\n",
        "\n",
        "for _ in range(N):\n",
        "    t = random.random()  # t ∈ [0,1)\n",
        "    x = t / (1 - t)\n",
        "    fx = math.exp(-x**2) / (1 - t)**2\n",
        "    valores.append(fx)\n",
        "\n",
        "# Estimación de la integral\n",
        "media = sum(valores) / N\n",
        "\n",
        "# Estimación de la varianza muestral\n",
        "varianza = sum((v - media)**2 for v in valores) / (N - 1)\n",
        "\n",
        "# Intervalo de confianza del 90%\n",
        "z = 1.645  # para 90%\n",
        "error = z * math.sqrt(varianza / N)\n",
        "IC_inf = media - error\n",
        "IC_sup = media + error\n",
        "\n",
        "# Resultados\n",
        "print(f\"Estimación de la integral ≈ {media:.6f}\")\n",
        "print(f\"Intervalo de confianza del 90%: ({IC_inf:.6f}, {IC_sup:.6f})\")"
      ]
    }
  ]
}