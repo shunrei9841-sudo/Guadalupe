{
  "nbformat": 4,
  "nbformat_minor": 0,
  "metadata": {
    "colab": {
      "provenance": [],
      "authorship_tag": "ABX9TyMPdS6yZ4A1kPoGKpjpsnTD",
      "include_colab_link": true
    },
    "kernelspec": {
      "name": "python3",
      "display_name": "Python 3"
    },
    "language_info": {
      "name": "python"
    }
  },
  "cells": [
    {
      "cell_type": "markdown",
      "metadata": {
        "id": "view-in-github",
        "colab_type": "text"
      },
      "source": [
        "<a href=\"https://colab.research.google.com/github/shunrei9841-sudo/Guadalupe/blob/main/EjercicioSimulacion5.ipynb\" target=\"_parent\"><img src=\"https://colab.research.google.com/assets/colab-badge.svg\" alt=\"Open In Colab\"/></a>"
      ]
    },
    {
      "cell_type": "code",
      "execution_count": 5,
      "metadata": {
        "colab": {
          "base_uri": "https://localhost:8080/"
        },
        "id": "LKMtDplZ5gSL",
        "outputId": "92f7d0a4-92b7-4f3f-8758-1c700f58e11f"
      },
      "outputs": [
        {
          "output_type": "stream",
          "name": "stdout",
          "text": [
            "Números generados: [29, 8, 0, 0]\n"
          ]
        }
      ],
      "source": [
        "#Numero de 3 cifras elevado al cuadrado quedandose con las 2 cifras centrales\n",
        "def cuadrados_medios(inicial, cantidad):\n",
        "    resultado = []\n",
        "    numero = inicial\n",
        "\n",
        "    for _ in range(cantidad):\n",
        "        cuadrado = numero ** 2\n",
        "        cuadrado_str = str(cuadrado).zfill(6)  # Asegura 6 dígitos\n",
        "        # Extrae las dos cifras centrales\n",
        "        centro = cuadrado_str[2:4]\n",
        "        resultado.append(int(centro))\n",
        "        numero = int(centro)\n",
        "\n",
        "    return resultado\n",
        "\n",
        "# Ejecución\n",
        "semilla = 673\n",
        "cantidad_numeros = 4\n",
        "numeros_generados = cuadrados_medios(semilla, cantidad_numeros)\n",
        "\n",
        "print(\"Números generados:\", numeros_generados)"
      ]
    }
  ]
}