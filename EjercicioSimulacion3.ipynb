{
  "nbformat": 4,
  "nbformat_minor": 0,
  "metadata": {
    "colab": {
      "provenance": [],
      "authorship_tag": "ABX9TyMhtuyzVBNuqXAioMgkDHzY",
      "include_colab_link": true
    },
    "kernelspec": {
      "name": "python3",
      "display_name": "Python 3"
    },
    "language_info": {
      "name": "python"
    }
  },
  "cells": [
    {
      "cell_type": "markdown",
      "metadata": {
        "id": "view-in-github",
        "colab_type": "text"
      },
      "source": [
        "<a href=\"https://colab.research.google.com/github/shunrei9841-sudo/Guadalupe/blob/main/EjercicioSimulacion3.ipynb\" target=\"_parent\"><img src=\"https://colab.research.google.com/assets/colab-badge.svg\" alt=\"Open In Colab\"/></a>"
      ]
    },
    {
      "cell_type": "code",
      "execution_count": 4,
      "metadata": {
        "colab": {
          "base_uri": "https://localhost:8080/"
        },
        "id": "qGgJnYsCjwPn",
        "outputId": "e16f3c76-f0c1-4315-fc0d-934b57136d41"
      },
      "outputs": [
        {
          "output_type": "stream",
          "name": "stdout",
          "text": [
            "Estimación del volumen de la esfera de radio 1: 4.186512\n"
          ]
        }
      ],
      "source": [
        "from random import uniform\n",
        "#Volumen de una esfera con radio 1\n",
        "# Número de simulaciones\n",
        "N = 1000000\n",
        "cuenta = 0\n",
        "\n",
        "# Simulación Monte Carlo\n",
        "for _ in range(N):\n",
        "    x = uniform(-1, 1)\n",
        "    y = uniform(-1, 1)\n",
        "    z = uniform(-1, 1)\n",
        "    if x**2 + y**2 + z**2 < 1:\n",
        "        cuenta += 1\n",
        "\n",
        "# Volumen estimado\n",
        "volumen_cubo = 8  # lado 2 → volumen = 2^3\n",
        "volumen_esfera = (cuenta / N) * volumen_cubo\n",
        "\n",
        "# Resultado\n",
        "print(f\"Estimación del volumen de la esfera de radio 1: {volumen_esfera:.6f}\")"
      ]
    }
  ]
}