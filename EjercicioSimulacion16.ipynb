{
  "nbformat": 4,
  "nbformat_minor": 0,
  "metadata": {
    "colab": {
      "provenance": [],
      "authorship_tag": "ABX9TyO/2a55bUbGxCrxMQ879Wjz",
      "include_colab_link": true
    },
    "kernelspec": {
      "name": "python3",
      "display_name": "Python 3"
    },
    "language_info": {
      "name": "python"
    }
  },
  "cells": [
    {
      "cell_type": "markdown",
      "metadata": {
        "id": "view-in-github",
        "colab_type": "text"
      },
      "source": [
        "<a href=\"https://colab.research.google.com/github/shunrei9841-sudo/Guadalupe/blob/main/EjercicioSimulacion16.ipynb\" target=\"_parent\"><img src=\"https://colab.research.google.com/assets/colab-badge.svg\" alt=\"Open In Colab\"/></a>"
      ]
    },
    {
      "cell_type": "code",
      "execution_count": 9,
      "metadata": {
        "colab": {
          "base_uri": "https://localhost:8080/"
        },
        "id": "Ed-BdUSCslVf",
        "outputId": "96c00b83-6962-431d-a175-56981dd9e9c4"
      },
      "outputs": [
        {
          "output_type": "stream",
          "name": "stdout",
          "text": [
            "Estimación de E[√X] ≈ 1.098262\n"
          ]
        }
      ],
      "source": [
        "#Variable aleatoria con funcion de densidad de probabilidad, calcular raiz de X\n",
        "import numpy as np\n",
        "\n",
        "# Función para simular un valor de X según P(X = i) = 4 / 5^i\n",
        "def simular_X():\n",
        "    u = np.random.random()\n",
        "    suma = 0\n",
        "    i = 1\n",
        "    while True:\n",
        "        suma += 4 / (5**i)\n",
        "        if u < suma:\n",
        "            return i\n",
        "        i += 1\n",
        "\n",
        "# Generar muestra\n",
        "N = 1000000\n",
        "muestra = [simular_X() for _ in range(N)]\n",
        "\n",
        "# Calcular valor esperado de sqrt(X)\n",
        "esperado_sqrtX = np.mean(np.sqrt(muestra))\n",
        "\n",
        "# Resultado\n",
        "print(f\"Estimación de E[√X] ≈ {esperado_sqrtX:.6f}\")"
      ]
    }
  ]
}