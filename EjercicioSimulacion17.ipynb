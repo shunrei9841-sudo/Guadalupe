{
  "nbformat": 4,
  "nbformat_minor": 0,
  "metadata": {
    "colab": {
      "provenance": [],
      "authorship_tag": "ABX9TyPi8jf4My4OV6FULJY6jpWy",
      "include_colab_link": true
    },
    "kernelspec": {
      "name": "python3",
      "display_name": "Python 3"
    },
    "language_info": {
      "name": "python"
    }
  },
  "cells": [
    {
      "cell_type": "markdown",
      "metadata": {
        "id": "view-in-github",
        "colab_type": "text"
      },
      "source": [
        "<a href=\"https://colab.research.google.com/github/shunrei9841-sudo/Guadalupe/blob/main/EjercicioSimulacion17.ipynb\" target=\"_parent\"><img src=\"https://colab.research.google.com/assets/colab-badge.svg\" alt=\"Open In Colab\"/></a>"
      ]
    },
    {
      "cell_type": "code",
      "execution_count": 12,
      "metadata": {
        "colab": {
          "base_uri": "https://localhost:8080/"
        },
        "id": "Ed-BdUSCslVf",
        "outputId": "f622b902-2980-4bd2-d0f4-9a6ad24155b7"
      },
      "outputs": [
        {
          "output_type": "stream",
          "name": "stdout",
          "text": [
            "Estimación de E[X] con N=1000000: 2.71890\n"
          ]
        }
      ],
      "source": [
        "#Variable aleatoria , estimar el valor esperado de X\n",
        "import numpy as np\n",
        "\n",
        "# Número de simulaciones\n",
        "N = 1000000\n",
        "valores_X = []\n",
        "\n",
        "for _ in range(N):\n",
        "    suma = 0\n",
        "    contador = 0\n",
        "    while suma <= 1:\n",
        "        suma += np.random.uniform(0, 1)\n",
        "        contador += 1\n",
        "    valores_X.append(contador)\n",
        "\n",
        "# Estimar el valor esperado\n",
        "E_X_estimado = np.mean(valores_X)\n",
        "\n",
        "# Mostrar resultado\n",
        "print(f\"Estimación de E[X] con N={N}: {E_X_estimado:.5f}\")"
      ]
    }
  ]
}