{
  "nbformat": 4,
  "nbformat_minor": 0,
  "metadata": {
    "colab": {
      "provenance": [],
      "authorship_tag": "ABX9TyN6qpyfbcKzoLvDJZYScV9X",
      "include_colab_link": true
    },
    "kernelspec": {
      "name": "python3",
      "display_name": "Python 3"
    },
    "language_info": {
      "name": "python"
    }
  },
  "cells": [
    {
      "cell_type": "markdown",
      "metadata": {
        "id": "view-in-github",
        "colab_type": "text"
      },
      "source": [
        "<a href=\"https://colab.research.google.com/github/shunrei9841-sudo/Guadalupe/blob/main/EjercicioSimulacion18.ipynb\" target=\"_parent\"><img src=\"https://colab.research.google.com/assets/colab-badge.svg\" alt=\"Open In Colab\"/></a>"
      ]
    },
    {
      "cell_type": "code",
      "execution_count": 20,
      "metadata": {
        "colab": {
          "base_uri": "https://localhost:8080/"
        },
        "id": "Ed-BdUSCslVf",
        "outputId": "423850aa-6b09-4fe0-84a3-e7ef6fec0eac"
      },
      "outputs": [
        {
          "output_type": "stream",
          "name": "stdout",
          "text": [
            "Estimación de E[ln(X)] con N=1000000: -0.33304\n"
          ]
        }
      ],
      "source": [
        "#Valor esperado de In(x)\n",
        "import numpy as np\n",
        "\n",
        "# Número de simulaciones\n",
        "N = 1000000\n",
        "\n",
        "# Paso 1: Simular X con densidad f_X(x) = 3x^2 en [0,1]\n",
        "# La CDF es F(x) = x^3 → F^{-1}(u) = u^{1/3}\n",
        "U = np.random.uniform(0, 1, N)\n",
        "X = U ** (1/3)\n",
        "\n",
        "# Paso 2: Calcular ln(X)\n",
        "ln_X = np.log(X)\n",
        "\n",
        "# Paso 3: Estimar el valor esperado\n",
        "E_lnX_estimado = np.mean(ln_X)\n",
        "\n",
        "# Mostrar resultado\n",
        "print(f\"Estimación de E[ln(X)] con N={N}: {E_lnX_estimado:.5f}\")\n",
        "\n"
      ]
    }
  ]
}