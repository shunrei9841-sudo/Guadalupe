{
  "nbformat": 4,
  "nbformat_minor": 0,
  "metadata": {
    "colab": {
      "provenance": [],
      "authorship_tag": "ABX9TyOARzgY1e1gvJYpYZ7Ar8+i",
      "include_colab_link": true
    },
    "kernelspec": {
      "name": "python3",
      "display_name": "Python 3"
    },
    "language_info": {
      "name": "python"
    }
  },
  "cells": [
    {
      "cell_type": "markdown",
      "metadata": {
        "id": "view-in-github",
        "colab_type": "text"
      },
      "source": [
        "<a href=\"https://colab.research.google.com/github/shunrei9841-sudo/Guadalupe/blob/main/EjercicioSimulacion21.ipynb\" target=\"_parent\"><img src=\"https://colab.research.google.com/assets/colab-badge.svg\" alt=\"Open In Colab\"/></a>"
      ]
    },
    {
      "cell_type": "code",
      "execution_count": 25,
      "metadata": {
        "colab": {
          "base_uri": "https://localhost:8080/"
        },
        "id": "Ed-BdUSCslVf",
        "outputId": "2284af52-b129-470b-f012-04924a9b46ff"
      },
      "outputs": [
        {
          "output_type": "stream",
          "name": "stdout",
          "text": [
            "Estimación de E[√X] con N=1000000: 0.68601\n",
            "\n",
            "Conclusión:\n",
            "La estimación se aproxima al valor teórico de la integral ∫₀¹ √x · 6x(1−x) dx, confirmando que la simulación es correcta.\n"
          ]
        }
      ],
      "source": [
        "import numpy as np\n",
        "\n",
        "# Número de simulaciones\n",
        "N = 1000000\n",
        "\n",
        "# Simular X ~ Beta(2,2), equivalente a f_X(x) = 6x(1 - x)\n",
        "X = np.random.beta(2, 2, size=N)\n",
        "\n",
        "# Calcular sqrt(X)\n",
        "sqrt_X = np.sqrt(X)\n",
        "\n",
        "# Estimar valor esperado\n",
        "E_sqrt_X = np.mean(sqrt_X)\n",
        "\n",
        "# Mostrar resultado\n",
        "print(f\"Estimación de E[√X] con N={N}: {E_sqrt_X:.5f}\")\n",
        "\n",
        "# Conclusión\n",
        "print(\"\\nConclusión:\")\n",
        "print(\"La estimación se aproxima al valor teórico de la integral ∫₀¹ √x · 6x(1−x) dx, confirmando que la simulación es correcta.\")"
      ]
    }
  ]
}